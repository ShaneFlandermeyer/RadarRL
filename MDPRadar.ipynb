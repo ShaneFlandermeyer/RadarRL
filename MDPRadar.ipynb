{
 "cells": [
  {
   "cell_type": "markdown",
   "metadata": {},
   "source": [
    " # Final Project\n"
   ]
  },
  {
   "cell_type": "code",
   "execution_count": 1,
   "metadata": {},
   "outputs": [],
   "source": [
    "import mdptoolbox\n",
    "import mdptoolbox.example\n",
    "import numpy as np\n",
    "import scipy.constants as sc\n",
    "import itertools\n",
    "from sklearn.preprocessing import normalize\n",
    "import matplotlib.pyplot as plt\n",
    "from matplotlib import animation\n",
    "from radar import *\n",
    "from interference import *\n",
    "from target import *\n",
    "from waveform import *\n",
    "\n"
   ]
  },
  {
   "cell_type": "markdown",
   "metadata": {},
   "source": [
    " ### Radar Environment\n"
   ]
  },
  {
   "cell_type": "markdown",
   "metadata": {},
   "source": [
    " The radar environment is defined by a set of possible postion states\n",
    "\n",
    " $\\mathcal{P}$ and a set of velocity states $\\mathcal{V}$.\n",
    "\n",
    "\n",
    " $\\mathcal{P} = \\{\\mathbf{r_1}, \\mathbf{r_2}, \\dots, \\mathbf{r_\\rho}\\}$\n",
    "\n",
    "\n",
    " $\\mathcal{V} = \\{\\mathbf{v_1}, \\mathbf{v_2}, \\dots, \\mathbf{v_\\nu}\\}$\n",
    "\n",
    "\n",
    " where $\\rho$ is the number of possible position states and $\\nu$ is the number\n",
    "\n",
    " of possible velocities.\n",
    "\n",
    "\n",
    " Each $\\mathbf{r_i}, \\mathbf{v_i}$ are 3-dimensional row vectors\n",
    "\n",
    "\n",
    " $\\mathbf{r_i} = \\left[r_x, r_y, r_z \\right]$\n",
    "\n",
    "\n",
    " $\\mathbf{v_i} = \\left[v_x, v_y, v_z \\right]$\n",
    "\n",
    " **NOTE:** The current iteration of the simulation only considers the frequency\n",
    " environment for the MDP. By not including the target position and velocity, we\n",
    " **significantly** reduce training time and the sample support needed for a good\n",
    " estimate. The downside to this is that we cannot use the target position in the\n",
    " reward function (e.g., through SINR), but initial experimentation suggests that\n",
    " this is a suboptimal reward function anyways."
   ]
  },
  {
   "cell_type": "markdown",
   "metadata": {},
   "source": [
    " ### Interference Environment\n"
   ]
  },
  {
   "cell_type": "code",
   "execution_count": 2,
   "metadata": {},
   "outputs": [],
   "source": [
    "N = 5\n",
    "channel_bw = 200e6\n",
    "subband_bw = channel_bw / N\n",
    "channel = np.zeros((N,))\n",
    "# Matrix of all unique interference states, where each row is a unique state and\n",
    "# each column is a frequency bin\n",
    "Theta = np.array(list(itertools.product([0, 1], repeat=N)))\n",
    "\n",
    "# Interfering system\n",
    "interference_state = 1\n",
    "comms = HoppingInterference(pattern=np.array(\n",
    "    [2**n for n in range(N)]), tx_power=4.6e-13, states=Theta)\n",
    "# comms = IntermittentInterference(\n",
    "# tx_power=4.6e-13, states=Theta, state_ind=interference_state,\n",
    "# transition_prob=0)\n",
    "# comms = ConstantInterference(\n",
    "#     tx_power=4.6e-13, states=Theta, state_ind=interference_state)\n",
    "\n"
   ]
  },
  {
   "cell_type": "markdown",
   "metadata": {},
   "source": [
    " ## Simulation Environment"
   ]
  },
  {
   "cell_type": "markdown",
   "metadata": {},
   "source": [
    " ### Radar and Target Parameters"
   ]
  },
  {
   "cell_type": "code",
   "execution_count": 3,
   "metadata": {},
   "outputs": [],
   "source": [
    "# Radar system\n",
    "radar = Radar(position=np.zeros((3,)), prf=2000,\n",
    "              center_freq=10e9, tx_gain=100, tx_power=1e3, num_pulse_cpi=20)\n",
    "# Transmitted waveform (linear FM)\n",
    "wave = LinearFMWaveform(bandwidth=20e6, pulsewidth=10e-6)\n",
    "# Possible actions (assume transmission over contiguous sub-bands)\n",
    "actions = np.zeros((0, N))\n",
    "for i in range(N):\n",
    "    state = np.zeros((N,))\n",
    "    state[:i+1] = 1\n",
    "    actions = np.append(actions, np.array([np.roll(state, j) for j in\n",
    "                                           range(N-i)]), axis=0)\n",
    "# Number of position states in each dimension\n",
    "# TODO: I don't know if these need to exist anymore\n",
    "rho_x = 5\n",
    "rho_y = 5\n",
    "rho_z = 1\n",
    "rho = rho_x*rho_y*rho_z\n",
    "rx = np.linspace(-5e3, 5e3, rho_x)\n",
    "ry = np.linspace(1e3, 5e3, rho_y)\n",
    "rz = np.linspace(0, 0, rho_z)\n",
    "P = np.vstack(np.meshgrid(rx, ry, rz)).reshape(3, -1).T\n",
    "# Number of velocity states\n",
    "nu_x = 3\n",
    "nu_y = 3\n",
    "nu_z = 1\n",
    "nu = nu_x*nu_y*nu_z\n",
    "# NOTE: The min/max velocity I have set in each dimension is completely arbitrary\n",
    "vx = np.linspace(-5, 5, nu_x)\n",
    "vy = np.linspace(-5, 5, nu_y)\n",
    "vz = np.linspace(0, 0, nu_z)\n",
    "V = np.vstack(np.meshgrid(vx, vy, vz)).reshape(3, -1).T\n",
    "target = Target(position=[], velocity=[], rcs=0.1)\n",
    "\n",
    "\n"
   ]
  },
  {
   "cell_type": "code",
   "execution_count": 4,
   "metadata": {},
   "outputs": [
    {
     "data": {
      "text/plain": [
       "[<matplotlib.lines.Line2D at 0x1b3fb78d040>]"
      ]
     },
     "execution_count": 4,
     "metadata": {},
     "output_type": "execute_result"
    },
    {
     "data": {
      "image/png": "[encoded data removed]",
      "text/plain": [
       "<Figure size 432x288 with 1 Axes>"
      ]
     },
     "metadata": {
      "needs_background": "light"
     },
     "output_type": "display_data"
    }
   ],
   "source": [
    "plt.plot(P[:, 0], P[:, 1], 'ro', label='Position States')\n",
    "plt.plot(radar.position[0], radar.position[1], 'b.', label='Radar Position')\n",
    "\n"
   ]
  },
  {
   "cell_type": "markdown",
   "metadata": {},
   "source": [
    " ### Reward structure\n"
   ]
  },
  {
   "cell_type": "code",
   "execution_count": 5,
   "metadata": {},
   "outputs": [],
   "source": [
    "def reward(radar_state, interference_state):\n",
    "    r = 0\n",
    "    # Number of collisions with the interference\n",
    "    num_collision = np.sum(np.equal(radar_state, 1) &\n",
    "                           (radar_state == interference_state))\n",
    "    # Number of sub-bands utilized by the radar\n",
    "    num_subband = np.sum(radar_state)\n",
    "    # Number of missed opportunities for radar transmission, where no\n",
    "    # interference exists but the radar did not transmit there\n",
    "    num_missed_opportunity = np.sum(\n",
    "        (radar_state == 0) & (interference_state == 0))\n",
    "\n",
    "    if (num_collision > 0):\n",
    "        r += -100*num_collision\n",
    "    else:\n",
    "        r += 10*(num_subband-1)\n",
    "    return r\n",
    "\n",
    "    # TODO: Penalize rapid waveform changes\n",
    "\n"
   ]
  },
  {
   "cell_type": "code",
   "execution_count": 6,
   "metadata": {},
   "outputs": [],
   "source": [
    "def reward(radar_state, interference_state):\n",
    "    r = 0\n",
    "    # Number of collisions with the interference\n",
    "    num_collision = np.sum(np.equal(radar_state,1) & (radar_state == interference_state))\n",
    "    # Number of sub-bands utilized by the radar\n",
    "    num_subband = np.sum(radar_state)\n",
    "    # Number of missed opportunities for radar transmission, where no\n",
    "    # interference exists but the radar did not transmit there\n",
    "    num_missed_opportunity = np.sum(\n",
    "        (radar_state == 0) & (interference_state == 0))\n",
    "\n",
    "    if (num_collision > 0):\n",
    "        r += -100*num_collision\n",
    "    else:\n",
    "        r += 10*(num_subband-1)\n",
    "    return r\n",
    "\n",
    "    # TODO: Penalize rapid waveform changes\n",
    "\n",
    "\n"
   ]
  },
  {
   "cell_type": "code",
   "execution_count": 7,
   "metadata": {},
   "outputs": [],
   "source": [
    "def animate_spectrum(tx_history, interference_history):\n",
    "    # tx: array of radar transmission actions, where each row is the spectrum\n",
    "    # state for a test run\n",
    "    # int: Array of interference states with the same shape as for the transmission\n",
    "\n",
    "    def animate(i):\n",
    "        radar_action = tx_history[i, :]\n",
    "        interference_state = interference_history[i, :]\n",
    "        for ibin in range(len(radar_spectrum.patches)):\n",
    "            # Get the histogram bin object\n",
    "            bin = radar_spectrum.patches[ibin]\n",
    "            int_bin = interference.patches[ibin]\n",
    "            # Set the height of each bin\n",
    "            bin.set_height(radar_action[ibin])\n",
    "            int_bin.set_height(interference_state[ibin])\n",
    "            # Set the color of each bin based on whether or not a collision exists\n",
    "            if radar_action[ibin] == interference_state[ibin]:\n",
    "                bin.set_color('r')\n",
    "                int_bin.set_color('r')\n",
    "            else:\n",
    "                bin.set_color('b')\n",
    "                int_bin.set_color('g')\n",
    "\n",
    "        return radar_spectrum.patches\n",
    "\n",
    "    fig, ax = plt.subplots()\n",
    "    plt.xlabel('Frequency (MHz)')\n",
    "    plt.ylabel('State')\n",
    "    subband_bw_mhz = subband_bw / 1e6\n",
    "    interference = plt.bar(np.arange(N)*subband_bw_mhz, np.ones(\n",
    "        (N,)), width=subband_bw_mhz, edgecolor='k', color='g', align='edge')\n",
    "    radar_spectrum = plt.bar(\n",
    "        np.arange(N)*subband_bw_mhz, np.ones((N,)), width=subband_bw_mhz,\n",
    "        edgecolor='k', color='b', align='edge')\n",
    "    anim = animation.FuncAnimation(\n",
    "        fig, animate, tx_history.shape[0], repeat=False, blit=True)\n",
    "    anim.save('test.gif', fps=1)\n",
    "\n"
   ]
  },
  {
   "cell_type": "markdown",
   "metadata": {},
   "source": [
    " ## Train the MDP"
   ]
  },
  {
   "cell_type": "code",
   "execution_count": 8,
   "metadata": {},
   "outputs": [],
   "source": [
    "# Number of possible states (here, equal to the number of interference states)\n",
    "S = 2**(2*N)\n",
    "# Number of possible actions\n",
    "A = actions.shape[0]\n",
    "# Initialize the transition and reward matrices\n",
    "T = np.zeros((A, S, S))\n",
    "R = np.zeros((A, S, S))\n",
    "\n",
    "num_train = int(1e3)\n",
    "num_test = int(1)\n",
    "time = np.linspace(0, 1500, len(comms.pattern))\n",
    "# Time step for the simulation\n",
    "dt = time[1] - time[0]\n",
    "for itrain in range(num_train):\n",
    "    # Randomly select a starting position and target velocity\n",
    "    target.position = P[np.random.choice(P.shape[0]), :]\n",
    "    target.velocity = V[np.random.choice(V.shape[0]), :]\n",
    "    # Add a gaussian perturbance to the position and velocity\n",
    "    target.position += np.random.randn()\n",
    "    target.velocity += np.random.randn()\n",
    "    target.position[-1] = max(target.position[-1], 0)\n",
    "    next_state = (0, comms.state_ind)\n",
    "    for t in time:\n",
    "        # Initial environment state\n",
    "        current_state = next_state\n",
    "        # Randomly select a valid action\n",
    "        action_index = np.random.randint(0, A)\n",
    "        radar.action = actions[action_index, :]\n",
    "\n",
    "        # Determine the bandwidth used, then update the interference, position, range, and SINR\n",
    "        wave.bandwidth = subband_bw*np.sum(radar.action)\n",
    "        comms.step()\n",
    "        target.step(dt)\n",
    "        next_state = (current_state[1], comms.state_ind)\n",
    "        # We also need the indices of the interference state (with memory) in\n",
    "        # the Theta array\n",
    "        current_state_ind = current_state[0]*(2**N) + current_state[1]\n",
    "        next_state_ind = next_state[0]*(2**N) + next_state[1]\n",
    "        T[action_index, current_state_ind, next_state_ind] += 1\n",
    "        R[action_index, current_state_ind,\n",
    "            next_state_ind] += reward(radar.action, comms.current_state)\n",
    "\n",
    "# Normalize the transition probability matrix to make it stochastic\n",
    "T = np.array([normalize(T[a], axis=1, norm='l1') for a in range(A)])\n",
    "# Also need to add a 1 to the diagonals of the matrices where the probability is zero\n",
    "for a in range(A):\n",
    "    ind = np.where(T[a].sum(axis=1) == 0)[0]\n",
    "    for i in ind:\n",
    "        T[a, i, i] = 1\n",
    "        R[a, i, i] = 0\n",
    "\n",
    "# Use policy iteration to determine the optimal policy\n",
    "pi = mdptoolbox.mdp.PolicyIteration(T, R, 0.9)\n",
    "pi.run()\n",
    "\n"
   ]
  },
  {
   "cell_type": "markdown",
   "metadata": {},
   "source": [
    "   ## Test the MDP"
   ]
  },
  {
   "cell_type": "code",
   "execution_count": 9,
   "metadata": {},
   "outputs": [],
   "source": [
    "current_reward = np.zeros((time.shape[0], num_test))\n",
    "current_sinr = np.zeros((time.shape[0], num_test))\n",
    "for itest in range(num_test):\n",
    "    # Select a NEW trajectory that was not used for training\n",
    "    # Randomly select a starting position and target velocity\n",
    "    target.position = np.random.rand(3)*(np.max(P)-np.min(P)) + np.min(P)\n",
    "    target.velocity = np.random.rand()*(np.max(V)-np.min(V)) + np.min(V)\n",
    "\n",
    "    tx_history = np.empty((0, N))\n",
    "    interference_history = np.empty((0, N))\n",
    "    next_state = (0, comms.state_ind)\n",
    "    for itime in range(time.shape[0]):\n",
    "        # Initial environment state\n",
    "        current_state = next_state\n",
    "        current_state_ind = current_state[0]*(2**N) + current_state[1]\n",
    "        # Select an action from the policy\n",
    "        radar.action = actions[pi.policy[current_state_ind], :]\n",
    "\n",
    "        # Determine the bandwidth used, then update the interference, position, range, and SINR\n",
    "        wave.bandwidth = subband_bw*np.sum(radar.action)\n",
    "        comms.step()\n",
    "        target.step(dt)\n",
    "        if itime > 0:\n",
    "            current_reward[itime, itest] = current_reward[itime -\n",
    "                                                          1, itest] + reward(radar.action, comms.current_state)\n",
    "        next_state = (current_state[1], comms.state_ind)\n",
    "\n",
    "        # Variables for plotting\n",
    "        interference_history = np.append(interference_history, np.reshape(\n",
    "            Theta[comms.state_ind], (1, N)), axis=0)\n",
    "        tx_history = np.append(tx_history, np.reshape(\n",
    "            radar.action, (1, N)), axis=0)\n",
    "        sinr = radar.SINR(target, comms, wave)\n",
    "        current_sinr[itime, itest] = sinr\n",
    "\n",
    "current_reward = np.mean(current_reward, axis=1)\n",
    "current_sinr = np.mean(current_sinr, axis=1)\n",
    "\n"
   ]
  },
  {
   "cell_type": "markdown",
   "metadata": {},
   "source": [
    "   ## Visualizations"
   ]
  },
  {
   "cell_type": "code",
   "execution_count": 10,
   "metadata": {},
   "outputs": [
    {
     "name": "stderr",
     "output_type": "stream",
     "text": [
      "MovieWriter ffmpeg unavailable; using Pillow instead.\n"
     ]
    },
    {
     "data": {
      "image/png": "[encoded data removed]",
      "text/plain": [
       "<Figure size 432x288 with 1 Axes>"
      ]
     },
     "metadata": {
      "needs_background": "light"
     },
     "output_type": "display_data"
    },
    {
     "data": {
      "image/png": "[encoded data removed]",
      "text/plain": [
       "<Figure size 432x288 with 1 Axes>"
      ]
     },
     "metadata": {
      "needs_background": "light"
     },
     "output_type": "display_data"
    },
    {
     "data": {
      "image/png": "[encoded data removed]",
      "text/plain": [
       "<Figure size 432x288 with 1 Axes>"
      ]
     },
     "metadata": {
      "needs_background": "light"
     },
     "output_type": "display_data"
    }
   ],
   "source": [
    "plt.figure()\n",
    "plt.plot(time, current_reward, '.-')\n",
    "plt.xlabel('Time (s)')\n",
    "plt.ylabel('Average Cumulative Reward')\n",
    "plt.savefig('reward')\n",
    "\n",
    "plt.figure()\n",
    "plt.plot(time, current_sinr, '.-')\n",
    "plt.xlabel('Time (s)')\n",
    "plt.ylabel('Average SINR (dB)')\n",
    "plt.savefig('SINR')\n",
    "animate_spectrum(tx_history, interference_history)\n",
    "\n",
    "\n",
    "\n"
   ]
  },
  {
   "cell_type": "code",
   "execution_count": null,
   "metadata": {},
   "outputs": [],
   "source": []
  }
 ],
 "metadata": {
  "interpreter": {
   "hash": "36bfa51ffa2f802e2f9ed636c27afdebfc31442618a5ac81c3811ab9156cf8d0"
  },
  "kernelspec": {
   "display_name": "Python 3 (ipykernel)",
   "language": "python",
   "name": "python3"
  },
  "language_info": {
   "codemirror_mode": {
    "name": "ipython",
    "version": 3
   },
   "file_extension": ".py",
   "mimetype": "text/x-python",
   "name": "python",
   "nbconvert_exporter": "python",
   "pygments_lexer": "ipython3",
   "version": "3.9.7"
  }
 },
 "nbformat": 4,
 "nbformat_minor": 2
}
