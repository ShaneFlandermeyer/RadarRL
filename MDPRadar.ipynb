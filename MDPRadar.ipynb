{
 "cells": [
  {
   "cell_type": "markdown",
   "metadata": {},
   "source": [
    "# Final Project"
   ]
  },
  {
   "cell_type": "code",
   "execution_count": 9,
   "metadata": {},
   "outputs": [],
   "source": [
    "import mdptoolbox\n",
    "import numpy as np\n",
    "import scipy.constants as sc"
   ]
  },
  {
   "cell_type": "markdown",
   "metadata": {},
   "source": [
    "## Unresolved Design Considerations\n",
    "\n",
    "1. Would it make sense to use an even simpler radar state space model than the\n",
    "   one considered in Selvi? We could use a 1D position/velocity space rather\n",
    "   than 3D."
   ]
  },
  {
   "cell_type": "markdown",
   "metadata": {},
   "source": [
    "## Define the Radar Environment"
   ]
  },
  {
   "cell_type": "markdown",
   "metadata": {},
   "source": [
    "The radar environment is defined by a set of possible postion states\n",
    "$\\mathcal{P}$ and a set of velocity states $\\mathcal{V}$.\n",
    "\n",
    "$\\mathcal{P} = \\{\\mathbf{r_1}, \\mathbf{r_2}, \\dots, \\mathbf{r_\\rho}\\}$\n",
    "\n",
    "$\\mathcal{V} = \\{\\mathbf{v_1}, \\mathbf{v_2}, \\dots, \\mathbf{v_\\nu}\\}$\n",
    "\n",
    "where $\\rho$ is the number of possible position states and $\\nu$ is the number\n",
    "of possible velocities.\n",
    "\n",
    "Each $\\mathbf{r_i}, \\mathbf{v_i}$ are 3-dimensional row vectors\n",
    "\n",
    "$\\mathbf{r_i} = \\left[r_x, r_y, r_z \\right]$\n",
    "\n",
    "$\\mathbf{v_i} = \\left[v_x, v_y, v_z \\right]$\n",
    "\n",
    "where x, y and z represent the cross-range, down-range, and vertical dimensions,\n",
    "respectively. "
   ]
  },
  {
   "cell_type": "code",
   "execution_count": 10,
   "metadata": {},
   "outputs": [],
   "source": [
    "class Radar:\n",
    "  def __init__(self, pos, prf):\n",
    "    self.position = np.array(pos)\n",
    "    self.prf = prf\n",
    "    self.max_range = sc.c/(2*prf)\n",
    "  "
   ]
  },
  {
   "cell_type": "code",
   "execution_count": 12,
   "metadata": {},
   "outputs": [],
   "source": [
    "# Radar system\n",
    "radar = Radar(pos=np.array([0,0,0]),prf=2000)\n",
    "# Number of position states\n",
    "rho = 50\n",
    "r = np.empty((rho,3))\n",
    "r[:,1] = np.meshgrid\n",
    "# Number of velocity states\n",
    "nu = 10\n",
    "# Discount factor\n",
    "gamma = 0.9"
   ]
  },
  {
   "cell_type": "code",
   "execution_count": null,
   "metadata": {},
   "outputs": [],
   "source": []
  },
  {
   "cell_type": "markdown",
   "metadata": {},
   "source": []
  },
  {
   "cell_type": "code",
   "execution_count": null,
   "metadata": {},
   "outputs": [],
   "source": []
  },
  {
   "cell_type": "markdown",
   "metadata": {},
   "source": [
    "# "
   ]
  }
 ],
 "metadata": {
  "interpreter": {
   "hash": "7e9c35eaa5fec4dd55a48a3534f0d41eaeef47d9162af19d2846d4075f54262e"
  },
  "kernelspec": {
   "display_name": "Python 3.8.10 ('shane-LGshlpFc')",
   "language": "python",
   "name": "python3"
  },
  "language_info": {
   "codemirror_mode": {
    "name": "ipython",
    "version": 3
   },
   "file_extension": ".py",
   "mimetype": "text/x-python",
   "name": "python",
   "nbconvert_exporter": "python",
   "pygments_lexer": "ipython3",
   "version": "3.8.10"
  },
  "orig_nbformat": 4
 },
 "nbformat": 4,
 "nbformat_minor": 2
}
