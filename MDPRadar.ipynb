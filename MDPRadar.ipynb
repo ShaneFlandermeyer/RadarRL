{
 "cells": [
  {
   "cell_type": "markdown",
   "metadata": {},
   "source": [
    "# Final Project\n"
   ]
  },
  {
   "cell_type": "code",
   "execution_count": 166,
   "metadata": {},
   "outputs": [],
   "source": [
    "import mdptoolbox\n",
    "import mdptoolbox.example\n",
    "import numpy as np\n",
    "import scipy.constants as sc\n",
    "import itertools\n"
   ]
  },
  {
   "cell_type": "markdown",
   "metadata": {},
   "source": [
    "## Unresolved Design Considerations\n",
    "\n",
    "1. Would it make sense to use an even simpler radar state space model than the\n",
    "   one considered in Selvi? We could use a 1D position/velocity space rather\n",
    "   than 3D.\n"
   ]
  },
  {
   "cell_type": "markdown",
   "metadata": {},
   "source": [
    "## Radar Environment\n"
   ]
  },
  {
   "cell_type": "markdown",
   "metadata": {},
   "source": [
    "The radar environment is defined by a set of possible postion states\n",
    "$\\mathcal{P}$ and a set of velocity states $\\mathcal{V}$.\n",
    "\n",
    "$\\mathcal{P} = \\{\\mathbf{r_1}, \\mathbf{r_2}, \\dots, \\mathbf{r_\\rho}\\}$\n",
    "\n",
    "$\\mathcal{V} = \\{\\mathbf{v_1}, \\mathbf{v_2}, \\dots, \\mathbf{v_\\nu}\\}$\n",
    "\n",
    "where $\\rho$ is the number of possible position states and $\\nu$ is the number\n",
    "of possible velocities.\n",
    "\n",
    "Each $\\mathbf{r_i}, \\mathbf{v_i}$ are 3-dimensional row vectors\n",
    "\n",
    "$\\mathbf{r_i} = \\left[r_x, r_y, r_z \\right]$\n",
    "\n",
    "$\\mathbf{v_i} = \\left[v_x, v_y, v_z \\right]$\n",
    "\n",
    "where x, y and z represent the cross-range, down-range, and vertical dimensions,\n",
    "respectively.\n"
   ]
  },
  {
   "cell_type": "markdown",
   "metadata": {},
   "source": [
    "For this simple script, only 1D range and velocity will be considered.\n"
   ]
  },
  {
   "cell_type": "markdown",
   "metadata": {},
   "source": [
    "## Simulation Objects\n"
   ]
  },
  {
   "cell_type": "code",
   "execution_count": 167,
   "metadata": {},
   "outputs": [],
   "source": [
    "class Radar:\n",
    "    \"\"\"Monostatic radar object\"\"\"\n",
    "\n",
    "    def __init__(self, pos=np.zeros((3,)), prf=1e3, center_freq=10e9, tx_gain=100, tx_power=100, samp_rate=1e6, num_pulse_cpi=128):\n",
    "        self.position = np.array(pos)\n",
    "        self.prf = prf\n",
    "        self.center_freq = center_freq\n",
    "        self.tx_gain = tx_gain\n",
    "        # Assume monostatic\n",
    "        self.rx_gain = tx_gain\n",
    "        self.tx_power = tx_power\n",
    "        self.samp_rate = samp_rate\n",
    "        self.num_pulse_cpi = num_pulse_cpi\n",
    "        # Derived parameters\n",
    "        self.lambda0 = sc.c / center_freq\n",
    "        self.max_range = sc.c/(2*prf)\n",
    "        self.max_doppler = prf/2\n",
    "\n",
    "    def rx_power(self, target):\n",
    "        Pr = self.tx_power*self.G**2*self.lam**2 * \\\n",
    "            target.rcs/((4*sc.pi)**3*target.range**4)\n",
    "        return Pr\n",
    "\n",
    "\n",
    "class Waveform:\n",
    "    \"\"\"Linear FM Waveform object\"\"\"\n",
    "\n",
    "    def __init__(self, bandwidth, pulsewidth):\n",
    "        self.bandwidth = bandwidth\n",
    "        self.pulsewidth = pulsewidth\n",
    "\n",
    "\n",
    "class Target:\n",
    "    \"\"\"Point target object\"\"\"\n",
    "\n",
    "    def __init__(self, pos, vel, rcs):\n",
    "        self.pos = np.array(pos)\n",
    "        self.vel = np.array(vel)\n",
    "        self.rcs = rcs\n",
    "\n",
    "\n",
    "class Interference:\n",
    "    \"\"\"Abstract interference object\"\"\"\n",
    "\n",
    "    def __init__(self):\n",
    "        pass\n"
   ]
  },
  {
   "cell_type": "code",
   "execution_count": 168,
   "metadata": {},
   "outputs": [],
   "source": [
    "# Radar system\n",
    "radar = Radar(pos=np.array(0), prf=2000,\n",
    "              center_freq=10e9, tx_gain=100, tx_power=100,num_pulse_cpi=20)\n",
    "# Number of position states\n",
    "rho = 50\n",
    "r = np.linspace(0, radar.max_range, rho)\n",
    "# Number of velocity states\n",
    "nu = 10\n",
    "v = np.arange(-radar.prf/2, radar.prf/2, radar.prf/nu)*(radar.lambda0/2)\n"
   ]
  },
  {
   "cell_type": "markdown",
   "metadata": {},
   "source": [
    "### Interference Model\n"
   ]
  },
  {
   "cell_type": "code",
   "execution_count": 169,
   "metadata": {},
   "outputs": [],
   "source": [
    "N = 5\n",
    "channel_bw = 100e6\n",
    "subband_bw = channel_bw / N\n",
    "channel = np.zeros((N,))\n",
    "actions = np.zeros((N,))\n",
    "# Matrix of all unique interference states, where each row is a unique state and\n",
    "# each column is a frequency bin\n",
    "Theta = np.array(list(itertools.product([0, 1], repeat=N)))\n"
   ]
  },
  {
   "cell_type": "markdown",
   "metadata": {},
   "source": [
    "### Reward structure\n"
   ]
  },
  {
   "cell_type": "code",
   "execution_count": null,
   "metadata": {},
   "outputs": [],
   "source": []
  },
  {
   "cell_type": "markdown",
   "metadata": {},
   "source": [
    "Use the reward function defined in table 2 of Selvi2020\n"
   ]
  },
  {
   "cell_type": "code",
   "execution_count": 170,
   "metadata": {},
   "outputs": [],
   "source": [
    "def reward(sinr, bw):\n",
    "    r = 0\n",
    "    # SINR reward structure\n",
    "    if sinr < 0:\n",
    "        r -= 35\n",
    "    elif sinr >= 0 and sinr <= 2:\n",
    "        r += 1\n",
    "    elif sinr > 2 and sinr <= 5:\n",
    "        r += 2\n",
    "    elif sinr > 5 and sinr <= 8:\n",
    "        r += 3\n",
    "    elif sinr > 8 and sinr <= 11:\n",
    "        r += 4\n",
    "    elif sinr > 11 and sinr <= 14:\n",
    "        r += 5\n",
    "    elif sinr > 14 and sinr <= 17:\n",
    "        r += 6\n",
    "    elif sinr > 17 and sinr <= 20:\n",
    "        r += 8\n",
    "    else:\n",
    "        r += 10\n",
    "\n",
    "    # Bandwidth reward structure\n",
    "    r += 10*(bw-1)\n",
    "    return r\n"
   ]
  },
  {
   "cell_type": "markdown",
   "metadata": {},
   "source": [
    "## Train and test the cognitive radar\n",
    "\n",
    "See algorithm 1 in appendix B of Selvi2020\n"
   ]
  },
  {
   "cell_type": "code",
   "execution_count": 171,
   "metadata": {},
   "outputs": [],
   "source": [
    "# Number of possible states\n",
    "S = rho*nu*2**N\n",
    "# Number of possible actions\n",
    "A = int(N*(N+1)/2)\n",
    "# Initialize the transition and reward matrices\n",
    "T = np.zeros((A, S, S))\n",
    "R = np.zeros((A, S, S))\n",
    "\n",
    "num_train = int(1e3)\n",
    "num_test = int(1e2)\n",
    "target = Target(pos=[], vel=[], rcs=0.1)\n",
    "for itrain in range(num_train):\n",
    "    # Randomly select a starting position and target velocity\n",
    "    target.pos = np.random.choice(r)\n",
    "    target.vel = np.random.choice(v)\n",
    "    # Add a gaussian perturbance to the position and velocity\n",
    "    target.pos += np.random.randn()\n",
    "    target.vel += np.random.randn()\n",
    "    # TODO: Calculate initial SINR\n",
    "    # TODO: for each time index do\n",
    "    # TODO: Calculate the initial state\n",
    "    # TODO: Randomly select a valid action\n",
    "    # TODO: Determine the bandwidth used, then update the interference, position, range,and SINR\n",
    "    # TODO: Determine the new state\n",
    "    # TODO: Update the transition and reward matrices\n",
    "    pass\n",
    "\n",
    "# TODO: Use policy iteration to determine the optimal policy\n",
    "# Discount factor\n",
    "gamma = 0.9\n",
    "# pi = mdptoolbox.mdp.PolicyIteration(T, R, gamma)\n",
    "for itest in range(num_test):\n",
    "    # TODO: Select a NEW trajectory that was not used for training\n",
    "    # TODO: Calculate initial SINR\n",
    "    # TODO: for each time index do\n",
    "    # TODO: Calculate the initial state\n",
    "    # TODO: Select an action from the policy\n",
    "    # TODO: Determine bandwidth used, update interference, position, range, SINR\n",
    "    # TODO: Determine new state\n",
    "    pass\n",
    "\n",
    "# TODO: ???\n",
    "# TODO: Profit\n"
   ]
  }
 ],
 "metadata": {
  "interpreter": {
   "hash": "7e9c35eaa5fec4dd55a48a3534f0d41eaeef47d9162af19d2846d4075f54262e"
  },
  "kernelspec": {
   "display_name": "Python 3.8.10 ('shane-LGshlpFc')",
   "language": "python",
   "name": "python3"
  },
  "language_info": {
   "codemirror_mode": {
    "name": "ipython",
    "version": 3
   },
   "file_extension": ".py",
   "mimetype": "text/x-python",
   "name": "python",
   "nbconvert_exporter": "python",
   "pygments_lexer": "ipython3",
   "version": "3.9.7"
  },
  "orig_nbformat": 4
 },
 "nbformat": 4,
 "nbformat_minor": 2
}
